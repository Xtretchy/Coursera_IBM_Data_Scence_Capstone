{
 "cells": [
  {
   "cell_type": "markdown",
   "metadata": {},
   "source": [
    "# <center> Peer-graded Assignment: Capstone Project </center>\n",
    "## <center> Car accident Severity(Week 1) </center>"
   ]
  },
  {
   "cell_type": "markdown",
   "metadata": {},
   "source": [
    "### A Description of the Problem: \n",
    "A machine learning model that predicts the severity of car accidents on a road. This model  leverages information from past accidents and the data gained from them.  "
   ]
  },
  {
   "cell_type": "markdown",
   "metadata": {},
   "source": [
    "### A Discussion of the Background: \n",
    " This project is to aimed at helping car users predict ahead of a traveling the probability of an accident happening on a route they are to take and the severity of the accident. This model will help the user to take safe roads and can also suggest alternative routes in case of emergencies or matters of urgency.\n"
   ]
  },
  {
   "cell_type": "markdown",
   "metadata": {},
   "source": [
    "### Description of the Data: \n",
    "The data is from the <b> Seattle City Police Department </b>. It contains every collision record and also relevant information recorded at the scene of accident. It has 38 columns and about 195,000 rows of different incidents from January 2004 to May 2020. "
   ]
  }
 ],
 "metadata": {
  "kernelspec": {
   "display_name": "Python 3",
   "language": "python",
   "name": "python3"
  },
  "language_info": {
   "codemirror_mode": {
    "name": "ipython",
    "version": 3
   },
   "file_extension": ".py",
   "mimetype": "text/x-python",
   "name": "python",
   "nbconvert_exporter": "python",
   "pygments_lexer": "ipython3",
   "version": "3.7.6"
  }
 },
 "nbformat": 4,
 "nbformat_minor": 4
}
