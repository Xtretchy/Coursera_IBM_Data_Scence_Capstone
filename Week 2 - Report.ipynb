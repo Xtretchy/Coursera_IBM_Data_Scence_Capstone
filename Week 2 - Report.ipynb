{
 "cells": [
  {
   "cell_type": "markdown",
   "metadata": {},
   "source": [
    "# Week 2  - Report - Car Accident Severity"
   ]
  },
  {
   "cell_type": "markdown",
   "metadata": {},
   "source": [
    "## Introduction"
   ]
  },
  {
   "cell_type": "markdown",
   "metadata": {},
   "source": [
    "This project is aimed at helping car users predict ahead of a travel the probability of an accident happening on a route they desire to take and the severity of the accident. This model can help suggest safer roads to the user in case of emergencies or matters of urgency by predicting the occurrence of an accident on roads based on the weather of the day and conditions of the road."
   ]
  },
  {
   "cell_type": "markdown",
   "metadata": {},
   "source": [
    "## Data"
   ]
  },
  {
   "cell_type": "markdown",
   "metadata": {},
   "source": [
    "The data is from the <b> Seattle City Police Department </b>. It contains every collision record and also relevant information recorded at the scene of accident. It has 38 columns and about 195,000 rows of different incidents from January 2004 to May 2020."
   ]
  },
  {
   "cell_type": "markdown",
   "metadata": {},
   "source": [
    "## Methodology"
   ]
  },
  {
   "cell_type": "markdown",
   "metadata": {},
   "source": [
    "To achieve all that was written in the <b>Introduction Section</b>:\n",
    "\n",
    "* The data was first trimmed to cut off columns that have very little or no importance to the model that will be used for the predictions.\n",
    "\n",
    "* Then all rows with nan values were removed as they also have no importance to every model that will be used,\n",
    "\n",
    "* Next, the predictor variables and target variable were set.\n",
    "\n",
    "Models used:\n",
    "\n",
    "For this project, I used four models namely;\n",
    "1. Logistic Regression\n",
    "2. Support Vector Machine\n",
    "3. Decision Tree\n",
    "4. K Nearest Neighbour\n",
    "\n",
    "\n",
    "* These models were used because the data was categorical. I also used Ordinal and Label Encoders from sklearn.preprocessing to map the categories to numbers as models can only be predicted based on relationship with numbers.\n",
    "\n",
    "* Then, I used train_test_split from sklearn to split the encoded dataset into training and testing subsets so as to test for each of the model used.\n",
    "\n",
    "* While testing, I was able to determine the accuracy of each model tested and also the f1-score. \n",
    "\n",
    "* And out of these four models, the <b>k Nearest Neighbour (kNN)</b> model gave the highest accuracy and was further used on all of the data to improve its accuracy for prediction and also improve the probability of its outcome."
   ]
  },
  {
   "cell_type": "markdown",
   "metadata": {},
   "source": [
    "## Results"
   ]
  },
  {
   "cell_type": "markdown",
   "metadata": {},
   "source": [
    "After using all of the data for machine learning processing with the <b>k Nearest Neighbour</b> model where k = 4, I achieved an <b>accuracy</b> of 0.67 and <b>f1-score</b> of 0.46. I also inputted random data to test this new model and an <b>accuracy</b> of 0.63 and <b>f1-score</b> of 0.49 was achieved."
   ]
  },
  {
   "cell_type": "markdown",
   "metadata": {},
   "source": [
    "## Discussion"
   ]
  },
  {
   "cell_type": "markdown",
   "metadata": {},
   "source": [
    "Observation: \n",
    "\n",
    "* I was able to deduce, thanks to the plots, that most of the accidents occured when the <u>weather was clear</u>, when the <u>road was dry</u> and then <u>during daylight</u>. Left to me, these conditions are really odd because I expect traffic to be at the smoothest when these conditions hold.\n",
    "\n",
    "* I also noticed that for the first three machine learning models I used (Logistic Regression, Support Vector Machine, Decision Tree), they all achieved the same accuracy score and f1-score. They also couldn't predict any instance where there was as an 'Injury Collision'.\n",
    "\n",
    "Only with the k Nearest Neighbour model was a different accuracy score and f1-score achieved and also with slight matches in Injury Collision prediction. "
   ]
  },
  {
   "cell_type": "markdown",
   "metadata": {},
   "source": [
    "## Conclusion"
   ]
  },
  {
   "cell_type": "markdown",
   "metadata": {},
   "source": [
    "The best machine learning model for the project was found to be the <b>k Nearest Neighbour</b> with total percentage match of 63%, accuracy of 0.63 and f1-score of 0.60. The whole process takes approximately 20 to 30 minutes to conclude. Thanks for reading!"
   ]
  }
 ],
 "metadata": {
  "kernelspec": {
   "display_name": "Python 3",
   "language": "python",
   "name": "python3"
  },
  "language_info": {
   "codemirror_mode": {
    "name": "ipython",
    "version": 3
   },
   "file_extension": ".py",
   "mimetype": "text/x-python",
   "name": "python",
   "nbconvert_exporter": "python",
   "pygments_lexer": "ipython3",
   "version": "3.7.6"
  }
 },
 "nbformat": 4,
 "nbformat_minor": 4
}
